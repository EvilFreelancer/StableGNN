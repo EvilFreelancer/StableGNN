{
 "cells": [
  {
   "cell_type": "markdown",
   "source": [
    "# Сравнение классификации графов с включением экстраполяици и нет"
   ],
   "metadata": {
    "collapsed": false,
    "pycharm": {
     "name": "#%% md\n"
    }
   }
  },
  {
   "cell_type": "code",
   "execution_count": null,
   "outputs": [],
   "source": [
    "import sys\n",
    "sys.path.append('../')\n",
    "import torch_geometric.transforms as T\n",
    "import torch\n",
    "\n",
    "from stable_gnn.pipelines.graph_classification_pipeline import TrainModelGC, TrainModelOptunaGC\n",
    "from stable_gnn.graph import Graph"
   ],
   "metadata": {
    "collapsed": false,
    "pycharm": {
     "name": "#%%\n"
    }
   }
  },
  {
   "cell_type": "markdown",
   "source": [
    "## Загружаем данные, сначала DHFR\n",
    "для начала в корень репозитория в папку data_validation/DHFR/raw необходимо добавить данные, взятые в данном репозитории: https://github.com/anpolol/data_validation/tree/main/DHFR"
   ],
   "metadata": {
    "collapsed": false,
    "pycharm": {
     "name": "#%% md\n"
    }
   }
  },
  {
   "cell_type": "code",
   "execution_count": null,
   "outputs": [],
   "source": [
    "root = '../data_validation/'\n",
    "name='DHFR'\n",
    "dataset = Graph(root=root + str(name), name=name, transform=T.NormalizeFeatures(),adjust_flag=False)\n",
    "len(dataset)"
   ],
   "metadata": {
    "collapsed": false,
    "pycharm": {
     "name": "#%%\n"
    }
   }
  },
  {
   "cell_type": "markdown",
   "source": [
    "## Extrapolate flag = False"
   ],
   "metadata": {
    "collapsed": false,
    "pycharm": {
     "name": "#%% md\n"
    }
   }
  },
  {
   "cell_type": "code",
   "execution_count": null,
   "outputs": [],
   "source": [
    "conv = \"GAT\"\n",
    "\n",
    "device = torch.device(\"cuda\" if torch.cuda.is_available() else \"cpu\")\n",
    "ssl_flag = False\n",
    "extrapolate_flag = False\n",
    "optuna_training = TrainModelOptunaGC(\n",
    "        data=dataset,\n",
    "            conv=conv,\n",
    "            device=device,\n",
    "            ssl_flag=ssl_flag,\n",
    "            extrapolate_flag=extrapolate_flag,\n",
    "        )\n",
    "\n",
    "best_values = optuna_training.run(number_of_trials=50)\n",
    "model_training = TrainModelGC(\n",
    "            data=dataset,\n",
    "            conv=conv,\n",
    "            device=device,\n",
    "            ssl_flag=ssl_flag,\n",
    "            extrapolate_flag=extrapolate_flag,\n",
    ")\n",
    "\n",
    "model, train_acc_mi, train_acc_ma, test_acc_mi, test_acc_ma = model_training.run(best_values, plot_training_procces=True)\n",
    "print(test_acc_mi)"
   ],
   "metadata": {
    "collapsed": false,
    "pycharm": {
     "name": "#%%\n"
    }
   }
  },
  {
   "cell_type": "markdown",
   "source": [
    "# Extrapolate flag = True"
   ],
   "metadata": {
    "collapsed": false,
    "pycharm": {
     "name": "#%% md\n"
    }
   }
  },
  {
   "cell_type": "code",
   "execution_count": null,
   "outputs": [],
   "source": [
    "conv = \"GAT\"\n",
    "\n",
    "device = torch.device(\"cuda\" if torch.cuda.is_available() else \"cpu\")\n",
    "ssl_flag = False\n",
    "extrapolate_flag = True\n",
    "\n",
    "\n",
    "optuna_training = TrainModelOptunaGC(\n",
    "        data=dataset,\n",
    "            conv=conv,\n",
    "            device=device,\n",
    "            ssl_flag=ssl_flag,\n",
    "            extrapolate_flag=extrapolate_flag,\n",
    "        )\n",
    "\n",
    "best_values = optuna_training.run(number_of_trials=50)\n",
    "\n",
    "model_training = TrainModelGC(\n",
    "            data=dataset,\n",
    "            conv=conv,\n",
    "            device=device,\n",
    "            ssl_flag=ssl_flag,\n",
    "            extrapolate_flag=extrapolate_flag,\n",
    ")\n",
    "\n",
    "model, train_acc_mi, train_acc_ma, test_acc_mi, test_acc_ma = model_training.run(best_values, plot_training_procces=True)\n",
    "print(test_acc_mi)"
   ],
   "metadata": {
    "collapsed": false,
    "pycharm": {
     "name": "#%%\n"
    }
   }
  },
  {
   "cell_type": "markdown",
   "source": [
    "# Загружаем следующий датасет -- BACE"
   ],
   "metadata": {
    "collapsed": false,
    "pycharm": {
     "name": "#%% md\n"
    }
   }
  },
  {
   "cell_type": "code",
   "execution_count": null,
   "outputs": [],
   "source": [
    "root = '../data_validation/'\n",
    "name='BACE'\n",
    "dataset = Graph(root=root + str(name), name=name, transform=T.NormalizeFeatures(),adjust_flag=False)\n",
    "len(dataset)"
   ],
   "metadata": {
    "collapsed": false,
    "pycharm": {
     "name": "#%%\n"
    }
   }
  },
  {
   "cell_type": "markdown",
   "source": [
    "# Рассмотрим конфигурации Extrapolate_flag = False"
   ],
   "metadata": {
    "collapsed": false,
    "pycharm": {
     "name": "#%% md\n"
    }
   }
  },
  {
   "cell_type": "code",
   "execution_count": null,
   "outputs": [],
   "source": [
    "conv = \"GAT\"\n",
    "\n",
    "device = torch.device(\"cuda\" if torch.cuda.is_available() else \"cpu\")\n",
    "ssl_flag = False\n",
    "extrapolate_flag = False\n",
    "optuna_training = TrainModelOptunaGC(\n",
    "        data=dataset,\n",
    "            conv=conv,\n",
    "            device=device,\n",
    "            ssl_flag=ssl_flag,\n",
    "            extrapolate_flag=extrapolate_flag,\n",
    "        )\n",
    "\n",
    "best_values = optuna_training.run(number_of_trials=50)\n",
    "model_training = TrainModelGC(\n",
    "            data=dataset,\n",
    "            conv=conv,\n",
    "            device=device,\n",
    "            ssl_flag=ssl_flag,\n",
    "            extrapolate_flag=extrapolate_flag,\n",
    ")\n",
    "\n",
    "model, train_acc_mi, train_acc_ma, test_acc_mi, test_acc_ma = model_training.run(best_values, plot_training_procces=True)\n",
    "print(test_acc_mi)"
   ],
   "metadata": {
    "collapsed": false,
    "pycharm": {
     "name": "#%%\n"
    }
   }
  },
  {
   "cell_type": "markdown",
   "source": [
    "# Рассмотрим конфигурации Extrapolate_flag = True"
   ],
   "metadata": {
    "collapsed": false,
    "pycharm": {
     "name": "#%% md\n"
    }
   }
  },
  {
   "cell_type": "code",
   "execution_count": null,
   "outputs": [],
   "source": [
    "conv = \"GAT\"\n",
    "\n",
    "device = torch.device(\"cuda\" if torch.cuda.is_available() else \"cpu\")\n",
    "ssl_flag = False\n",
    "extrapolate_flag = True\n",
    "\n",
    "\n",
    "optuna_training = TrainModelOptunaGC(\n",
    "        data=dataset,\n",
    "            conv=conv,\n",
    "            device=device,\n",
    "            ssl_flag=ssl_flag,\n",
    "            extrapolate_flag=extrapolate_flag,\n",
    "        )\n",
    "\n",
    "best_values = optuna_training.run(number_of_trials=50)\n",
    "\n",
    "model_training = TrainModelGC(\n",
    "            data=dataset,\n",
    "            conv=conv,\n",
    "            device=device,\n",
    "            ssl_flag=ssl_flag,\n",
    "            extrapolate_flag=extrapolate_flag,\n",
    ")\n",
    "\n",
    "model, train_acc_mi, train_acc_ma, test_acc_mi, test_acc_ma = model_training.run(best_values, plot_training_procces=True)\n",
    "print(test_acc_mi)"
   ],
   "metadata": {
    "collapsed": false,
    "pycharm": {
     "name": "#%%\n"
    }
   }
  }
 ],
 "metadata": {
  "kernelspec": {
   "display_name": "Python 3",
   "language": "python",
   "name": "python3"
  },
  "language_info": {
   "codemirror_mode": {
    "name": "ipython",
    "version": 2
   },
   "file_extension": ".py",
   "mimetype": "text/x-python",
   "name": "python",
   "nbconvert_exporter": "python",
   "pygments_lexer": "ipython2",
   "version": "2.7.6"
  }
 },
 "nbformat": 4,
 "nbformat_minor": 0
}