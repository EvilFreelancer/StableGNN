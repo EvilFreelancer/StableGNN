{
 "cells": [
  {
   "cell_type": "markdown",
   "source": [
    "# Задача классификации графов, предсказание свойств горения молекул углеводорода\n",
    "## Постановка задачи: предсказать один из индикаторов качества горения – производное цетановое число (DCN) для оксигенированных углеводородов по структуре молекул."
   ],
   "metadata": {
    "collapsed": false,
    "pycharm": {
     "name": "#%% md\n"
    }
   }
  },
  {
   "cell_type": "code",
   "execution_count": 13,
   "outputs": [],
   "source": [
    "import sys\n",
    "sys.path.append('../')\n",
    "import torch_geometric.transforms as T\n",
    "import torch\n",
    "import pandas as pd\n",
    "\n",
    "from stable_gnn.pipelines.graph_classification_pipeline import TrainModelGC, TrainModelOptunaGC\n",
    "from stable_gnn.graph import Graph"
   ],
   "metadata": {
    "collapsed": false,
    "pycharm": {
     "name": "#%%\n"
    }
   }
  },
  {
   "cell_type": "markdown",
   "source": [
    "# Загрузка датасета, состоящего из молекул.\n",
    " Атрибуты вершин: относится ли атом к определенному типу (например C, N, S и т.д.), степень вершин-атомов, формальный заряд атома, тип гибридизации, является ли атом частью кольца, является ли атом частью ароматического соединения, нормированная атомная масса"
   ],
   "metadata": {
    "collapsed": false,
    "pycharm": {
     "name": "#%% md\n"
    }
   }
  },
  {
   "cell_type": "code",
   "execution_count": 14,
   "outputs": [
    {
     "data": {
      "text/plain": "236"
     },
     "execution_count": 14,
     "metadata": {},
     "output_type": "execute_result"
    }
   ],
   "source": [
    "root = '../data_validation/'\n",
    "name='fuel'\n",
    "dataset = Graph(root=root + str(name), name=name, transform=T.NormalizeFeatures(),adjust_flag=False)\n",
    "len(dataset)"
   ],
   "metadata": {
    "collapsed": false,
    "pycharm": {
     "name": "#%%\n"
    }
   }
  },
  {
   "cell_type": "markdown",
   "source": [
    "## Решаем задачу предсказания связей, пользуясь подготовленным пайплайном в stable_gnn.pipelines.train_model_pipeline\n",
    "Задаем различные конфигурации включения экстраполяции и самостоятельного обучения"
   ],
   "metadata": {
    "collapsed": false,
    "pycharm": {
     "name": "#%% md\n"
    }
   }
  },
  {
   "cell_type": "code",
   "execution_count": 15,
   "outputs": [],
   "source": [
    "results = pd.DataFrame(columns=['extrapolate_flag', 'ssl_flag','test accuracy']) # табличка c результатми решения задачи для различных конфигураций параметров включения самостоятельного обучения и экстраполяции"
   ],
   "metadata": {
    "collapsed": false,
    "pycharm": {
     "name": "#%%\n"
    }
   }
  },
  {
   "cell_type": "code",
   "execution_count": 16,
   "outputs": [
    {
     "name": "stdout",
     "output_type": "stream",
     "text": [
      "0\n",
      "1\n",
      "2\n",
      "3\n",
      "4\n",
      "5\n",
      "6\n",
      "7\n",
      "8\n",
      "9\n",
      "10\n",
      "11\n",
      "12\n",
      "13\n",
      "14\n",
      "15\n",
      "16\n",
      "17\n",
      "18\n",
      "19\n",
      "20\n",
      "21\n",
      "22\n",
      "23\n",
      "24\n",
      "25\n",
      "26\n",
      "27\n",
      "28\n",
      "29\n",
      "30\n",
      "31\n",
      "32\n",
      "33\n",
      "34\n",
      "35\n",
      "36\n",
      "37\n",
      "38\n",
      "39\n",
      "40\n",
      "41\n",
      "42\n",
      "43\n",
      "44\n",
      "45\n",
      "46\n",
      "47\n",
      "48\n",
      "49\n",
      "50\n",
      "51\n",
      "52\n",
      "53\n",
      "54\n",
      "55\n",
      "56\n",
      "57\n",
      "58\n",
      "59\n",
      "60\n",
      "61\n",
      "62\n",
      "63\n",
      "64\n",
      "65\n",
      "66\n",
      "67\n",
      "68\n",
      "69\n",
      "70\n",
      "71\n",
      "72\n",
      "73\n",
      "74\n",
      "75\n",
      "76\n",
      "77\n",
      "78\n",
      "79\n",
      "80\n",
      "81\n",
      "82\n",
      "83\n",
      "84\n",
      "85\n",
      "86\n",
      "87\n",
      "88\n",
      "89\n",
      "90\n",
      "91\n",
      "92\n",
      "93\n",
      "94\n",
      "95\n",
      "96\n",
      "97\n",
      "98\n",
      "99\n",
      "0.5416666666666666\n"
     ]
    }
   ],
   "source": [
    "conv = \"GAT\"\n",
    "\n",
    "device = torch.device(\"cuda\" if torch.cuda.is_available() else \"cpu\")\n",
    "ssl_flag = False\n",
    "extrapolate_flag = False\n",
    "\n",
    "    #######\n",
    "\n",
    "optuna_training = TrainModelOptunaGC(\n",
    "        data=dataset,\n",
    "            conv=conv,\n",
    "            device=device,\n",
    "            ssl_flag=ssl_flag,\n",
    "            extrapolate_flag=extrapolate_flag,\n",
    "        )\n",
    "\n",
    "best_values = optuna_training.run(number_of_trials=50)\n",
    "\n",
    "model_training = TrainModelGC(\n",
    "            data=dataset,\n",
    "            conv=conv,\n",
    "            device=device,\n",
    "            ssl_flag=ssl_flag,\n",
    "            extrapolate_flag=extrapolate_flag,\n",
    ")\n",
    "\n",
    "model, train_acc_mi, train_acc_ma, test_acc_mi, test_acc_ma = model_training.run(best_values)\n",
    "print(test_acc_mi)\n",
    "results=results.append(pd.Series([extrapolate_flag,ssl_flag,test_acc_mi],index=results.columns), ignore_index=True)"
   ],
   "metadata": {
    "collapsed": false,
    "pycharm": {
     "name": "#%%\n"
    }
   }
  },
  {
   "cell_type": "code",
   "execution_count": 17,
   "outputs": [
    {
     "data": {
      "text/plain": "  extrapolate_flag ssl_flag test accuracy\n0            False    False      0.541667",
      "text/html": "<div>\n<style scoped>\n    .dataframe tbody tr th:only-of-type {\n        vertical-align: middle;\n    }\n\n    .dataframe tbody tr th {\n        vertical-align: top;\n    }\n\n    .dataframe thead th {\n        text-align: right;\n    }\n</style>\n<table border=\"1\" class=\"dataframe\">\n  <thead>\n    <tr style=\"text-align: right;\">\n      <th></th>\n      <th>extrapolate_flag</th>\n      <th>ssl_flag</th>\n      <th>test accuracy</th>\n    </tr>\n  </thead>\n  <tbody>\n    <tr>\n      <th>0</th>\n      <td>False</td>\n      <td>False</td>\n      <td>0.541667</td>\n    </tr>\n  </tbody>\n</table>\n</div>"
     },
     "execution_count": 17,
     "metadata": {},
     "output_type": "execute_result"
    }
   ],
   "source": [
    "results"
   ],
   "metadata": {
    "collapsed": false,
    "pycharm": {
     "name": "#%%\n"
    }
   }
  },
  {
   "cell_type": "markdown",
   "source": [
    "## Extrapolate_flag = True, ssl_flag = False"
   ],
   "metadata": {
    "collapsed": false,
    "pycharm": {
     "name": "#%% md\n"
    }
   }
  },
  {
   "cell_type": "code",
   "execution_count": 18,
   "outputs": [
    {
     "name": "stdout",
     "output_type": "stream",
     "text": [
      "0\n",
      "1\n",
      "2\n",
      "3\n",
      "4\n",
      "5\n",
      "6\n",
      "7\n",
      "8\n",
      "9\n",
      "10\n",
      "11\n",
      "12\n",
      "13\n",
      "14\n",
      "15\n",
      "16\n",
      "17\n",
      "18\n",
      "19\n",
      "20\n",
      "21\n",
      "22\n",
      "23\n",
      "24\n",
      "25\n",
      "26\n",
      "27\n",
      "28\n",
      "29\n",
      "30\n",
      "31\n",
      "32\n",
      "33\n",
      "34\n",
      "35\n",
      "36\n",
      "37\n",
      "38\n",
      "39\n",
      "40\n",
      "41\n",
      "42\n",
      "43\n",
      "44\n",
      "45\n",
      "46\n",
      "47\n",
      "48\n",
      "49\n",
      "50\n",
      "51\n",
      "52\n",
      "53\n",
      "54\n",
      "55\n",
      "56\n",
      "57\n",
      "58\n",
      "59\n",
      "60\n",
      "61\n",
      "62\n",
      "63\n",
      "64\n",
      "65\n",
      "66\n",
      "67\n",
      "68\n",
      "69\n",
      "70\n",
      "71\n",
      "72\n",
      "73\n",
      "74\n",
      "75\n",
      "76\n",
      "77\n",
      "78\n",
      "79\n",
      "80\n",
      "81\n",
      "82\n",
      "83\n",
      "84\n",
      "85\n",
      "86\n",
      "87\n",
      "88\n",
      "89\n",
      "90\n",
      "91\n",
      "92\n",
      "93\n",
      "94\n",
      "95\n",
      "96\n",
      "97\n",
      "98\n",
      "99\n",
      "0.725\n"
     ]
    }
   ],
   "source": [
    "conv = \"GAT\"\n",
    "\n",
    "device = torch.device(\"cuda\" if torch.cuda.is_available() else \"cpu\")\n",
    "ssl_flag = False\n",
    "extrapolate_flag = True\n",
    "\n",
    "    #######\n",
    "\n",
    "\n",
    "optuna_training = TrainModelOptunaGC(\n",
    "        data=dataset,\n",
    "            conv=conv,\n",
    "            device=device,\n",
    "            ssl_flag=ssl_flag,\n",
    "            extrapolate_flag=extrapolate_flag,\n",
    "        )\n",
    "\n",
    "best_values = optuna_training.run(number_of_trials=50)\n",
    "\n",
    "model_training = TrainModelGC(\n",
    "            data=dataset,\n",
    "            conv=conv,\n",
    "            device=device,\n",
    "            ssl_flag=ssl_flag,\n",
    "            extrapolate_flag=extrapolate_flag,\n",
    ")\n",
    "\n",
    "model, train_acc_mi, train_acc_ma, test_acc_mi, test_acc_ma = model_training.run(best_values)\n",
    "print(test_acc_mi)\n",
    "results=results.append(pd.Series([extrapolate_flag,ssl_flag,test_acc_mi],index=results.columns), ignore_index=True)"
   ],
   "metadata": {
    "collapsed": false,
    "pycharm": {
     "name": "#%%\n"
    }
   }
  },
  {
   "cell_type": "markdown",
   "source": [
    "## Extrapolate_flag = False, ssl=True\n"
   ],
   "metadata": {
    "collapsed": false,
    "pycharm": {
     "name": "#%% md\n"
    }
   }
  },
  {
   "cell_type": "code",
   "execution_count": 19,
   "outputs": [
    {
     "name": "stdout",
     "output_type": "stream",
     "text": [
      "0\n",
      "1\n",
      "2\n",
      "3\n",
      "4\n",
      "5\n",
      "6\n",
      "7\n",
      "8\n",
      "9\n",
      "10\n",
      "11\n",
      "12\n",
      "13\n",
      "14\n",
      "15\n",
      "16\n",
      "17\n",
      "18\n",
      "19\n",
      "20\n",
      "21\n",
      "22\n",
      "23\n",
      "24\n",
      "25\n",
      "26\n",
      "27\n",
      "28\n",
      "29\n",
      "30\n",
      "31\n",
      "32\n",
      "33\n",
      "34\n",
      "35\n",
      "36\n",
      "37\n",
      "38\n",
      "39\n",
      "40\n",
      "41\n",
      "42\n",
      "43\n",
      "44\n",
      "45\n",
      "46\n",
      "47\n",
      "48\n",
      "49\n",
      "50\n",
      "51\n",
      "52\n",
      "53\n",
      "54\n",
      "55\n",
      "56\n",
      "57\n",
      "58\n",
      "59\n",
      "60\n",
      "61\n",
      "62\n",
      "63\n",
      "64\n",
      "65\n",
      "66\n",
      "67\n",
      "68\n",
      "69\n",
      "70\n",
      "71\n",
      "72\n",
      "73\n",
      "74\n",
      "75\n",
      "76\n",
      "77\n",
      "78\n",
      "79\n",
      "80\n",
      "81\n",
      "82\n",
      "83\n",
      "84\n",
      "85\n",
      "86\n",
      "87\n",
      "88\n",
      "89\n",
      "90\n",
      "91\n",
      "92\n",
      "93\n",
      "94\n",
      "95\n",
      "96\n",
      "97\n",
      "98\n",
      "99\n",
      "0.8166666666666668\n"
     ]
    }
   ],
   "source": [
    "conv = \"GAT\"\n",
    "\n",
    "device = torch.device(\"cuda\" if torch.cuda.is_available() else \"cpu\")\n",
    "ssl_flag = True\n",
    "extrapolate_flag = False\n",
    "\n",
    "    #######\n",
    "optuna_training = TrainModelOptunaGC(\n",
    "        data=dataset,\n",
    "            conv=conv,\n",
    "            device=device,\n",
    "            ssl_flag=ssl_flag,\n",
    "            extrapolate_flag=extrapolate_flag,\n",
    "        )\n",
    "\n",
    "best_values = optuna_training.run(number_of_trials=50)\n",
    "\n",
    "model_training = TrainModelGC(\n",
    "            data=dataset,\n",
    "            conv=conv,\n",
    "            device=device,\n",
    "            ssl_flag=ssl_flag,\n",
    "            extrapolate_flag=extrapolate_flag,\n",
    ")\n",
    "\n",
    "model, train_acc_mi, train_acc_ma, test_acc_mi, test_acc_ma = model_training.run(best_values)\n",
    "print(test_acc_mi)\n",
    "results=results.append(pd.Series([extrapolate_flag,ssl_flag,test_acc_mi],index=results.columns), ignore_index=True)"
   ],
   "metadata": {
    "collapsed": false,
    "pycharm": {
     "name": "#%%\n"
    }
   }
  },
  {
   "cell_type": "markdown",
   "source": [
    "## Extrapolate_flag = True, ssl_flag = True"
   ],
   "metadata": {
    "collapsed": false,
    "pycharm": {
     "name": "#%% md\n"
    }
   }
  },
  {
   "cell_type": "code",
   "execution_count": 20,
   "outputs": [
    {
     "name": "stdout",
     "output_type": "stream",
     "text": [
      "0\n",
      "1\n",
      "2\n",
      "3\n",
      "4\n",
      "5\n",
      "6\n",
      "7\n",
      "8\n",
      "9\n",
      "10\n",
      "11\n",
      "12\n",
      "13\n",
      "14\n",
      "15\n",
      "16\n",
      "17\n",
      "18\n",
      "19\n",
      "20\n",
      "21\n",
      "22\n",
      "23\n",
      "24\n",
      "25\n",
      "26\n",
      "27\n",
      "28\n",
      "29\n",
      "30\n",
      "31\n",
      "32\n",
      "33\n",
      "34\n",
      "35\n",
      "36\n",
      "37\n",
      "38\n",
      "39\n",
      "40\n",
      "41\n",
      "42\n",
      "43\n",
      "44\n",
      "45\n",
      "46\n",
      "47\n",
      "48\n",
      "49\n",
      "50\n",
      "51\n",
      "52\n",
      "53\n",
      "54\n",
      "55\n",
      "56\n",
      "57\n",
      "58\n",
      "59\n",
      "60\n",
      "61\n",
      "62\n",
      "63\n",
      "64\n",
      "65\n",
      "66\n",
      "67\n",
      "68\n",
      "69\n",
      "70\n",
      "71\n",
      "72\n",
      "73\n",
      "74\n",
      "75\n",
      "76\n",
      "77\n",
      "78\n",
      "79\n",
      "80\n",
      "81\n",
      "82\n",
      "83\n",
      "84\n",
      "85\n",
      "86\n",
      "87\n",
      "88\n",
      "89\n",
      "90\n",
      "91\n",
      "92\n",
      "93\n",
      "94\n",
      "95\n",
      "96\n",
      "97\n",
      "98\n",
      "99\n",
      "0.8250000000000001\n"
     ]
    }
   ],
   "source": [
    "conv = \"GAT\"\n",
    "\n",
    "device = torch.device(\"cuda\" if torch.cuda.is_available() else \"cpu\")\n",
    "ssl_flag = True\n",
    "extrapolate_flag = True\n",
    "\n",
    "optuna_training = TrainModelOptunaGC(\n",
    "        data=dataset,\n",
    "            conv=conv,\n",
    "            device=device,\n",
    "            ssl_flag=ssl_flag,\n",
    "            extrapolate_flag=extrapolate_flag,\n",
    "        )\n",
    "\n",
    "best_values = optuna_training.run(number_of_trials=50)\n",
    "\n",
    "model_training = TrainModelGC(\n",
    "            data=dataset,\n",
    "            conv=conv,\n",
    "            device=device,\n",
    "            ssl_flag=ssl_flag,\n",
    "            extrapolate_flag=extrapolate_flag,\n",
    ")\n",
    "\n",
    "model, train_acc_mi, train_acc_ma, test_acc_mi, test_acc_ma = model_training.run(best_values)\n",
    "print(test_acc_mi)\n",
    "results=results.append(pd.Series([extrapolate_flag,ssl_flag,test_acc_mi],index=results.columns), ignore_index=True)"
   ],
   "metadata": {
    "collapsed": false,
    "pycharm": {
     "name": "#%%\n"
    }
   }
  },
  {
   "cell_type": "code",
   "execution_count": 21,
   "outputs": [
    {
     "data": {
      "text/plain": "  extrapolate_flag ssl_flag test accuracy\n0            False    False      0.541667\n1             True    False         0.725\n2            False     True      0.816667\n3             True     True         0.825",
      "text/html": "<div>\n<style scoped>\n    .dataframe tbody tr th:only-of-type {\n        vertical-align: middle;\n    }\n\n    .dataframe tbody tr th {\n        vertical-align: top;\n    }\n\n    .dataframe thead th {\n        text-align: right;\n    }\n</style>\n<table border=\"1\" class=\"dataframe\">\n  <thead>\n    <tr style=\"text-align: right;\">\n      <th></th>\n      <th>extrapolate_flag</th>\n      <th>ssl_flag</th>\n      <th>test accuracy</th>\n    </tr>\n  </thead>\n  <tbody>\n    <tr>\n      <th>0</th>\n      <td>False</td>\n      <td>False</td>\n      <td>0.541667</td>\n    </tr>\n    <tr>\n      <th>1</th>\n      <td>True</td>\n      <td>False</td>\n      <td>0.725</td>\n    </tr>\n    <tr>\n      <th>2</th>\n      <td>False</td>\n      <td>True</td>\n      <td>0.816667</td>\n    </tr>\n    <tr>\n      <th>3</th>\n      <td>True</td>\n      <td>True</td>\n      <td>0.825</td>\n    </tr>\n  </tbody>\n</table>\n</div>"
     },
     "execution_count": 21,
     "metadata": {},
     "output_type": "execute_result"
    }
   ],
   "source": [
    "results"
   ],
   "metadata": {
    "collapsed": false,
    "pycharm": {
     "name": "#%%\n"
    }
   }
  }
 ],
 "metadata": {
  "kernelspec": {
   "display_name": "Python 3",
   "language": "python",
   "name": "python3"
  },
  "language_info": {
   "codemirror_mode": {
    "name": "ipython",
    "version": 2
   },
   "file_extension": ".py",
   "mimetype": "text/x-python",
   "name": "python",
   "nbconvert_exporter": "python",
   "pygments_lexer": "ipython2",
   "version": "2.7.6"
  }
 },
 "nbformat": 4,
 "nbformat_minor": 0
}