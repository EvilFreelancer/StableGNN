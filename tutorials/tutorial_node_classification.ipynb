{
 "cells": [
  {
   "cell_type": "markdown",
   "metadata": {
    "pycharm": {
     "name": "#%% md\n"
    }
   },
   "source": [
    "# Предсказание уровня активности аэропортов в Бразилии,\n",
    "## Постановка задачи:\n",
    "\n",
    "Исходные данные:"
   ]
  },
  {
   "cell_type": "code",
   "execution_count": null,
   "metadata": {
    "pycharm": {
     "name": "#%%\n"
    }
   },
   "outputs": [],
   "source": [
    "import sys\n",
    "sys.path.append('../')\n",
    "from stable_gnn.graph import Graph\n",
    "from stable_gnn.pipelines.node_classification_pipeline import TrainModelNC, TrainModelOptunaNC\n",
    "\n",
    "import torch_geometric.transforms as T\n",
    "import torch\n",
    "\n"
   ]
  },
  {
   "cell_type": "code",
   "execution_count": null,
   "outputs": [],
   "source": [
    "root = '../data_validation/'\n",
    "name='wisconsin'\n",
    "dataset = Graph(root=root + str(name), name=name, transform=T.NormalizeFeatures(),adjust_flag=False)\n",
    "data = dataset[0]\n",
    "len(data.edge_index[0])"
   ],
   "metadata": {
    "collapsed": false,
    "pycharm": {
     "name": "#%%\n"
    }
   }
  },
  {
   "cell_type": "markdown",
   "source": [
    "Решаем задачу предсказания связей, пользуясь подготовленным пайплайном в stable_gnn.pipelines.train_model_pipeline"
   ],
   "metadata": {
    "collapsed": false,
    "pycharm": {
     "name": "#%% md\n"
    }
   }
  },
  {
   "cell_type": "code",
   "execution_count": null,
   "outputs": [],
   "source": [
    "data.num_nodes"
   ],
   "metadata": {
    "collapsed": false,
    "pycharm": {
     "name": "#%%\n"
    }
   }
  },
  {
   "cell_type": "code",
   "execution_count": null,
   "outputs": [],
   "source": [
    "device=torch.device('cuda' if torch.cuda.is_available() else 'cpu')\n",
    "\n",
    "loss_name='APP'\n",
    "ssl_flag = False\n",
    "\n",
    "params = {'hidden_layer': 128, \"size of network, number of convs\": 3, \"dropout\": 0.1, \"lr\": 0.01, \"coef\": 10}\n",
    "model_training = TrainModelNC(data=dataset, device=device, ssl_flag=ssl_flag, loss_name=loss_name)\n",
    "model, train_acc_mi, train_acc_ma, test_acc_mi, test_acc_ma = model_training.run(params, plot_training_procces=True)\n",
    "print(train_acc_mi, test_acc_mi)"
   ],
   "metadata": {
    "collapsed": false,
    "pycharm": {
     "name": "#%%\n"
    }
   }
  },
  {
   "cell_type": "code",
   "execution_count": null,
   "outputs": [],
   "source": [
    "device=torch.device('cuda' if torch.cuda.is_available() else 'cpu')\n",
    "\n",
    "loss_name='APP'\n",
    "ssl_flag = True\n",
    "\n",
    "params = {'hidden_layer': 64, \"size of network, number of convs\": 3, \"dropout\": 0.1, \"lr\": 0.01, \"coef\":10}\n",
    "model_training = TrainModelNC(data=dataset, device=device, ssl_flag=ssl_flag, loss_name=loss_name)\n",
    "model, train_acc_mi, train_acc_ma, test_acc_mi, test_acc_ma = model_training.run(params, plot_training_procces=True)\n",
    "print(train_acc_mi, test_acc_mi)"
   ],
   "metadata": {
    "collapsed": false,
    "pycharm": {
     "name": "#%%\n"
    }
   }
  },
  {
   "cell_type": "markdown",
   "source": [
    "# Если уточнить структуру\n",
    "удалим датасет и загрузим снова с другим флагом:"
   ],
   "metadata": {
    "collapsed": false,
    "pycharm": {
     "name": "#%% md\n"
    }
   }
  },
  {
   "cell_type": "code",
   "execution_count": null,
   "outputs": [],
   "source": [
    "root = '../data_validation/'\n",
    "name='brazil'\n",
    "dataset = Graph(root=root + str(name), name=name, transform=T.NormalizeFeatures(),adjust_flag=True,number_of_trainig_epochs=118)\n",
    "data = dataset[0]\n",
    "\n",
    "print(len(data.edge_index[0]))"
   ],
   "metadata": {
    "collapsed": false,
    "pycharm": {
     "name": "#%%\n"
    }
   }
  },
  {
   "cell_type": "code",
   "execution_count": null,
   "outputs": [],
   "source": [
    "device=torch.device('cuda' if torch.cuda.is_available() else 'cpu')\n",
    "\n",
    "loss_name='APP'\n",
    "ssl_flag = False\n",
    "\n",
    "params = {'hidden_layer': 128, \"size of network, number of convs\": 3, \"dropout\": 0.1, \"lr\": 0.01, \"coef\":10}\n",
    "model_training = TrainModelNC(data=dataset, device=device, ssl_flag=ssl_flag, loss_name=loss_name)\n",
    "model, train_acc_mi, train_acc_ma, test_acc_mi, test_acc_ma = model_training.run(params, plot_training_procces=True)\n",
    "print(train_acc_mi, test_acc_mi)"
   ],
   "metadata": {
    "collapsed": false,
    "pycharm": {
     "name": "#%%\n"
    }
   }
  },
  {
   "cell_type": "code",
   "execution_count": null,
   "outputs": [],
   "source": [
    "device=torch.device('cuda' if torch.cuda.is_available() else 'cpu')\n",
    "\n",
    "loss_name='APP'\n",
    "ssl_flag = True\n",
    "\n",
    "params = {'hidden_layer': 64, \"size of network, number of convs\": 3, \"dropout\": 0.1, \"lr\": 0.01, \"coef\": 10}\n",
    "model_training = TrainModelNC(data=dataset, device=device, ssl_flag=ssl_flag, loss_name=loss_name)\n",
    "model, train_acc_mi, train_acc_ma, test_acc_mi, test_acc_ma = model_training.run(params, plot_training_procces=True)\n",
    "print(train_acc_mi, test_acc_mi)"
   ],
   "metadata": {
    "collapsed": false,
    "pycharm": {
     "name": "#%%\n"
    }
   }
  },
  {
   "cell_type": "markdown",
   "source": [
    "# Построим объяснения предсказания"
   ],
   "metadata": {
    "collapsed": false,
    "pycharm": {
     "name": "#%% md\n"
    }
   }
  },
  {
   "cell_type": "code",
   "execution_count": null,
   "outputs": [],
   "source": [
    "import os\n",
    "import numpy as np\n",
    "import networkx as nx\n",
    "import matplotlib.pyplot as plt\n",
    "\n",
    "from torch_geometric.utils import to_dense_adj\n",
    "\n",
    "from stable_gnn.explain import Explain\n",
    "\n",
    "root='../data_validation/'\n",
    "features = np.load(root + name + \"/X.npy\")\n",
    "if os.path.exists(root + name + \"/A.npy\"):\n",
    "    adj_matrix = np.load(root + name + \"/A.npy\")\n",
    "else:\n",
    "    adj_matrix = torch.squeeze(to_dense_adj(data.edge_index.cpu())).numpy()\n",
    "\n",
    "\n",
    "explainer = Explain(model=model, adj_matrix=adj_matrix, features=features)\n",
    "\n",
    "for global_node in [0,7]:\n",
    "        pgm_explanation = explainer.structure_learning(global_node)\n",
    "        print(\"explanations is\", global_node, pgm_explanation.nodes, pgm_explanation.edges)\n",
    "        g = nx.DiGraph()\n",
    "        mapping = {}\n",
    "        inv_mapping = {}\n",
    "        for i, node in enumerate(pgm_explanation.nodes):\n",
    "            mapping[node]=i\n",
    "            inv_mapping[i]=node\n",
    "\n",
    "        edges = []\n",
    "        for edge in pgm_explanation.edges:\n",
    "            edges.append([mapping[edge[0]], mapping[edge[1]]])\n",
    "        g.add_edges_from(edges)\n",
    "        for node in g.nodes():\n",
    "            print(node)\n",
    "            g.add_node(node)\n",
    "\n",
    "        plt.figure()\n",
    "        nx.draw(g)\n",
    "        plt.title(str(global_node)+'\\'s explanation' )\n",
    "        plt.show()\n",
    "        plt.close()"
   ],
   "metadata": {
    "collapsed": false,
    "pycharm": {
     "name": "#%%\n"
    }
   }
  },
  {
   "cell_type": "markdown",
   "source": [
    "# Ego-networks of these nodes"
   ],
   "metadata": {
    "collapsed": false,
    "pycharm": {
     "name": "#%% md\n"
    }
   }
  },
  {
   "cell_type": "code",
   "execution_count": null,
   "outputs": [],
   "source": [
    "edges = data.edge_index.T.tolist()\n",
    "G = nx.Graph()\n",
    "G.add_edges_from(edges)\n",
    "G.remove_edges_from(nx.selfloop_edges(G))\n",
    "\n",
    "for global_node in [0,7]:\n",
    "    g = nx.ego_graph(G,global_node)\n",
    "    plt.figure()\n",
    "    nx.draw(g)\n",
    "    plt.title(str(global_node)+'\\'s ego-network' )\n",
    "    plt.show()\n",
    "    plt.close()"
   ],
   "metadata": {
    "collapsed": false,
    "pycharm": {
     "name": "#%%\n"
    }
   }
  }
 ],
 "metadata": {
  "kernelspec": {
   "display_name": "Python 3 (ipykernel)",
   "language": "python",
   "name": "python3"
  },
  "language_info": {
   "codemirror_mode": {
    "name": "ipython",
    "version": 3
   },
   "file_extension": ".py",
   "mimetype": "text/x-python",
   "name": "python",
   "nbconvert_exporter": "python",
   "pygments_lexer": "ipython3",
   "version": "3.9.0"
  }
 },
 "nbformat": 4,
 "nbformat_minor": 1
}