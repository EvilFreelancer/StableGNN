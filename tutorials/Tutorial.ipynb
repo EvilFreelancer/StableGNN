{
 "cells": [
  {
   "cell_type": "code",
   "execution_count": 1,
   "metadata": {
    "pycharm": {
     "name": "#%%\n"
    }
   },
   "outputs": [],
   "source": [
    "import torch\n"
   ]
  },
  {
   "cell_type": "markdown",
   "source": [],
   "metadata": {
    "collapsed": false,
    "pycharm": {
     "name": "#%% md\n"
    }
   }
  },
  {
   "cell_type": "code",
   "execution_count": 2,
   "outputs": [],
   "source": [
    "adj = torch.tensor([[0,1,1,0,1],[1, 0, 1, 0, 0],[1,1,0, 1,1],[0,0,1,0,1],[1,0,1,1,0]])"
   ],
   "metadata": {
    "collapsed": false,
    "pycharm": {
     "name": "#%%\n"
    }
   }
  },
  {
   "cell_type": "code",
   "execution_count": 6,
   "outputs": [
    {
     "data": {
      "text/plain": "tensor([1, 0, 1, 1, 0])"
     },
     "execution_count": 6,
     "metadata": {},
     "output_type": "execute_result"
    }
   ],
   "source": [
    "adj[4]"
   ],
   "metadata": {
    "collapsed": false,
    "pycharm": {
     "name": "#%%\n"
    }
   }
  },
  {
   "cell_type": "code",
   "execution_count": 4,
   "outputs": [
    {
     "data": {
      "text/plain": "array([[0, 1, 1, 0, 1],\n       [1, 0, 1, 0, 0],\n       [1, 1, 0, 1, 1],\n       [0, 0, 1, 0, 1],\n       [1, 0, 1, 1, 0]])"
     },
     "execution_count": 4,
     "metadata": {},
     "output_type": "execute_result"
    }
   ],
   "source": [
    "(adj > 0).float().numpy().astype(int)"
   ],
   "metadata": {
    "collapsed": false,
    "pycharm": {
     "name": "#%%\n"
    }
   }
  },
  {
   "cell_type": "code",
   "execution_count": null,
   "outputs": [],
   "source": [],
   "metadata": {
    "collapsed": false,
    "pycharm": {
     "name": "#%%\n"
    }
   }
  },
  {
   "cell_type": "code",
   "execution_count": 32,
   "outputs": [
    {
     "ename": "TypeError",
     "evalue": "normal(): argument 'mean' (position 1) must be Tensor, not tuple",
     "output_type": "error",
     "traceback": [
      "\u001B[1;31m---------------------------------------------------------------------------\u001B[0m",
      "\u001B[1;31mTypeError\u001B[0m                                 Traceback (most recent call last)",
      "Cell \u001B[1;32mIn [32], line 3\u001B[0m\n\u001B[0;32m      1\u001B[0m n\u001B[38;5;241m=\u001B[39m\u001B[38;5;241m4\u001B[39m\n\u001B[0;32m      2\u001B[0m m\u001B[38;5;241m=\u001B[39m\u001B[38;5;241m64\u001B[39m\n\u001B[1;32m----> 3\u001B[0m a \u001B[38;5;241m=\u001B[39m \u001B[43mtorch\u001B[49m\u001B[38;5;241;43m.\u001B[39;49m\u001B[43mnormal\u001B[49m\u001B[43m(\u001B[49m\u001B[43m(\u001B[49m\u001B[43mn\u001B[49m\u001B[43m,\u001B[49m\u001B[43mm\u001B[49m\u001B[43m)\u001B[49m\u001B[43m)\u001B[49m\n\u001B[0;32m      4\u001B[0m c \u001B[38;5;241m=\u001B[39m a\u001B[38;5;241m.\u001B[39mview(\u001B[38;5;241m1\u001B[39m, n, m) \u001B[38;5;241m-\u001B[39m a\u001B[38;5;241m.\u001B[39mview(n, \u001B[38;5;241m1\u001B[39m, m)\n\u001B[0;32m      5\u001B[0m \u001B[38;5;241m-\u001B[39m(c\u001B[38;5;241m*\u001B[39mc)\u001B[38;5;241m.\u001B[39msum(axis\u001B[38;5;241m=\u001B[39m\u001B[38;5;241m2\u001B[39m)\n",
      "\u001B[1;31mTypeError\u001B[0m: normal(): argument 'mean' (position 1) must be Tensor, not tuple"
     ]
    }
   ],
   "source": [
    "n=4\n",
    "\n",
    "m=64\n",
    "a = torch.normal((n,m))\n",
    "c = a.view(1, n, m) - a.view(n, 1, m)\n",
    "-(c*c).sum(axis=2)"
   ],
   "metadata": {
    "collapsed": false,
    "pycharm": {
     "name": "#%%\n"
    }
   }
  },
  {
   "cell_type": "code",
   "execution_count": 6,
   "outputs": [],
   "source": [
    "n=5\n",
    "m=3"
   ],
   "metadata": {
    "collapsed": false,
    "pycharm": {
     "name": "#%%\n"
    }
   }
  },
  {
   "cell_type": "code",
   "execution_count": 16,
   "outputs": [
    {
     "name": "stdout",
     "output_type": "stream",
     "text": [
      "tensor([[-1.5149, -0.8233,  1.1595],\n",
      "        [ 0.7311,  0.9124, -0.4467],\n",
      "        [ 0.0130, -1.0934, -0.3047],\n",
      "        [ 0.0624, -0.4462,  0.7783],\n",
      "        [-0.9767,  0.5908,  1.0116]])\n"
     ]
    }
   ],
   "source": [
    "u = torch.normal(mean=torch.zeros((n, m)), std=torch.ones((n, m))*0.7)\n",
    "#e=torch.clamp(e, min=0, max=1)\n",
    "print(u)"
   ],
   "metadata": {
    "collapsed": false,
    "pycharm": {
     "name": "#%%\n"
    }
   }
  },
  {
   "cell_type": "code",
   "execution_count": 20,
   "outputs": [],
   "source": [
    "u = torch.normal(mean=torch.zeros((n, n)), std=torch.ones((n, n))*0.7)"
   ],
   "metadata": {
    "collapsed": false,
    "pycharm": {
     "name": "#%%\n"
    }
   }
  },
  {
   "cell_type": "code",
   "execution_count": 21,
   "outputs": [
    {
     "data": {
      "text/plain": "tensor([[ 0.6687,  0.4437,  0.7894, -0.2134,  0.6370],\n        [ 0.1483, -0.0610, -1.0466, -0.1374,  1.5158],\n        [ 0.2764,  1.3181,  0.1103,  0.0495,  0.1683],\n        [-1.1976, -1.3733, -1.2291,  0.1554, -0.2879],\n        [-0.5835,  1.2205,  0.2042,  0.1849,  0.3115]])"
     },
     "execution_count": 21,
     "metadata": {},
     "output_type": "execute_result"
    }
   ],
   "source": [
    "u"
   ],
   "metadata": {
    "collapsed": false,
    "pycharm": {
     "name": "#%%\n"
    }
   }
  },
  {
   "cell_type": "code",
   "execution_count": 25,
   "outputs": [],
   "source": [
    "edge_index = torch.tensor([[0,0,0,1,1,3],[2,3,4,3,4,4]])\n",
    "num_nodes = 5"
   ],
   "metadata": {
    "collapsed": false,
    "pycharm": {
     "name": "#%%\n"
    }
   }
  },
  {
   "cell_type": "code",
   "execution_count": 28,
   "outputs": [
    {
     "data": {
      "text/plain": "tensor([ 2,  3,  4,  8,  9, 19, 10, 15, 20, 16, 21, 23])"
     },
     "execution_count": 28,
     "metadata": {},
     "output_type": "execute_result"
    }
   ],
   "source": [
    "torch.concat([edge_index[0]*num_nodes + edge_index[1], edge_index[1]*num_nodes + edge_index[0]])"
   ],
   "metadata": {
    "collapsed": false,
    "pycharm": {
     "name": "#%%\n"
    }
   }
  },
  {
   "cell_type": "code",
   "execution_count": 13,
   "outputs": [
    {
     "data": {
      "text/plain": "tensor([[[1, 2, 3]],\n\n        [[4, 5, 6]]])"
     },
     "execution_count": 13,
     "metadata": {},
     "output_type": "execute_result"
    }
   ],
   "source": [
    "\n",
    "a.view(2,1,3)"
   ],
   "metadata": {
    "collapsed": false,
    "pycharm": {
     "name": "#%%\n"
    }
   }
  },
  {
   "cell_type": "code",
   "execution_count": 2,
   "metadata": {
    "pycharm": {
     "name": "#%%\n"
    }
   },
   "outputs": [],
   "source": [
    "import torch_geometric"
   ]
  },
  {
   "cell_type": "code",
   "execution_count": 3,
   "outputs": [],
   "source": [
    "from torch_geometric.datasets import Planetoid\n",
    "import torch_geometric.transforms as T"
   ],
   "metadata": {
    "collapsed": false,
    "pycharm": {
     "name": "#%%\n"
    }
   }
  },
  {
   "cell_type": "code",
   "execution_count": 9,
   "outputs": [],
   "source": [
    "dataset = Planetoid(root='/tmp/'+str('Cora'), name='Cora',transform=T.NormalizeFeatures())[0]"
   ],
   "metadata": {
    "collapsed": false,
    "pycharm": {
     "name": "#%%\n"
    }
   }
  },
  {
   "cell_type": "code",
   "execution_count": 10,
   "outputs": [
    {
     "data": {
      "text/plain": "tensor([3, 4, 4,  ..., 3, 3, 3])"
     },
     "execution_count": 10,
     "metadata": {},
     "output_type": "execute_result"
    }
   ],
   "source": [
    "dataset.y"
   ],
   "metadata": {
    "collapsed": false,
    "pycharm": {
     "name": "#%%\n"
    }
   }
  },
  {
   "cell_type": "code",
   "execution_count": 5,
   "outputs": [],
   "source": [
    "with open('cora_attrs.txt', 'a') as f:\n",
    "    for i in dataset.x.numpy():\n",
    "        for j in i[:len(i)-1]:\n",
    "            f.write(str(j)+',')\n",
    "        f.write(str(i[len(i)-1])+'\\n')"
   ],
   "metadata": {
    "collapsed": false,
    "pycharm": {
     "name": "#%%\n"
    }
   }
  },
  {
   "cell_type": "code",
   "execution_count": 6,
   "outputs": [],
   "source": [
    "with open('cora_edges.txt', 'a') as f:\n",
    "    for i in (dataset.edge_index.T.tolist()):\n",
    "        f.write(str(i[0])+','+str(i[1])+'\\n')"
   ],
   "metadata": {
    "collapsed": false,
    "pycharm": {
     "name": "#%%\n"
    }
   }
  },
  {
   "cell_type": "code",
   "execution_count": 8,
   "outputs": [],
   "source": [
    "with open('cora_labels.txt', 'a') as f:\n",
    "    for i in (dataset.y.tolist()):\n",
    "        f.write(str(i)+'\\n')"
   ],
   "metadata": {
    "collapsed": false,
    "pycharm": {
     "name": "#%%\n"
    }
   }
  },
  {
   "cell_type": "code",
   "execution_count": null,
   "outputs": [],
   "source": [],
   "metadata": {
    "collapsed": false,
    "pycharm": {
     "name": "#%%\n"
    }
   }
  }
 ],
 "metadata": {
  "kernelspec": {
   "display_name": "venv",
   "language": "python",
   "name": "venv"
  },
  "language_info": {
   "codemirror_mode": {
    "name": "ipython",
    "version": 3
   },
   "file_extension": ".py",
   "mimetype": "text/x-python",
   "name": "python",
   "nbconvert_exporter": "python",
   "pygments_lexer": "ipython3",
   "version": "3.9.0"
  }
 },
 "nbformat": 4,
 "nbformat_minor": 1
}